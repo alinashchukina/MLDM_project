{
 "cells": [
  {
   "cell_type": "code",
   "execution_count": 1,
   "id": "11b232b6",
   "metadata": {
    "_cell_guid": "b1076dfc-b9ad-4769-8c92-a6c4dae69d19",
    "_uuid": "8f2839f25d086af736a60e9eeb907d3b93b6e0e5",
    "execution": {
     "iopub.execute_input": "2021-10-01T00:54:33.069738Z",
     "iopub.status.busy": "2021-10-01T00:54:33.068075Z",
     "iopub.status.idle": "2021-10-01T00:54:38.607979Z",
     "shell.execute_reply": "2021-10-01T00:54:38.607322Z"
    },
    "papermill": {
     "duration": 5.55554,
     "end_time": "2021-10-01T00:54:38.608170",
     "exception": false,
     "start_time": "2021-10-01T00:54:33.052630",
     "status": "completed"
    },
    "tags": []
   },
   "outputs": [],
   "source": [
    "import os\n",
    "import random\n",
    "import math\n",
    "import numpy as np\n",
    "import pandas as pd\n",
    "from PIL import Image, ImageDraw\n",
    "import cv2\n",
    "\n",
    "import torch\n",
    "import torch.nn as nn\n",
    "import torch.optim as optim\n",
    "from torch.optim import lr_scheduler\n",
    "from torch.utils.data import Dataset, DataLoader\n",
    "\n",
    "import torchvision\n",
    "import torchvision.transforms.functional as F\n",
    "from torchvision import datasets, models, transforms\n",
    "from torchvision.models.detection.retinanet import RetinaNet\n",
    "from torchvision.models.detection.faster_rcnn import FasterRCNN\n",
    "from torchvision.models.detection.faster_rcnn import FastRCNNPredictor\n",
    "from torchvision.models.detection.retinanet import RetinaNetHead\n",
    "\n",
    "from sklearn.metrics import roc_auc_score, mean_squared_error\n",
    "from IPython.display import clear_output\n",
    "from tqdm import tqdm\n",
    "import glob\n",
    "from sklearn.model_selection import train_test_split\n",
    "import matplotlib.pyplot as plt"
   ]
  },
  {
   "cell_type": "code",
   "execution_count": 2,
   "id": "47190591",
   "metadata": {
    "execution": {
     "iopub.execute_input": "2021-10-01T00:54:38.639843Z",
     "iopub.status.busy": "2021-10-01T00:54:38.639228Z",
     "iopub.status.idle": "2021-10-01T00:54:38.690337Z",
     "shell.execute_reply": "2021-10-01T00:54:38.689796Z"
    },
    "papermill": {
     "duration": 0.06746,
     "end_time": "2021-10-01T00:54:38.690486",
     "exception": false,
     "start_time": "2021-10-01T00:54:38.623026",
     "status": "completed"
    },
    "tags": []
   },
   "outputs": [],
   "source": [
    "train_csv = pd.read_csv('../input/petfinder-pawpularity-score/train.csv')\n",
    "test_csv = pd.read_csv('../input/petfinder-pawpularity-score/test.csv')\n",
    "sample_submission = pd.read_csv('../input/petfinder-pawpularity-score/sample_submission.csv')"
   ]
  },
  {
   "cell_type": "code",
   "execution_count": 3,
   "id": "37ead518",
   "metadata": {
    "execution": {
     "iopub.execute_input": "2021-10-01T00:54:38.717774Z",
     "iopub.status.busy": "2021-10-01T00:54:38.717137Z",
     "iopub.status.idle": "2021-10-01T00:54:38.720632Z",
     "shell.execute_reply": "2021-10-01T00:54:38.721125Z"
    },
    "papermill": {
     "duration": 0.02005,
     "end_time": "2021-10-01T00:54:38.721310",
     "exception": false,
     "start_time": "2021-10-01T00:54:38.701260",
     "status": "completed"
    },
    "tags": []
   },
   "outputs": [],
   "source": [
    "def get_transform(train, target_size, norm=True):\n",
    "    transform = []\n",
    "    transform.append(transforms.ToTensor())\n",
    "    transform.append(transforms.Resize(target_size))\n",
    "    if norm:\n",
    "        transform.append(transforms.Normalize(mean=[0.485, 0.456, 0.406], std=[0.229, 0.224, 0.225]))\n",
    "#     if train:\n",
    "#         transform.append(transforms.RandomErasing(p=0.5, scale=(0.02, 0.03), ratio=(0.3, 3.3)))\n",
    "        \n",
    "#         transform.append(\n",
    "#                     transforms.RandomChoice(\n",
    "#                         [transforms.GaussianBlur(kernel_size=(5, 9), sigma=(0.1, 5)),\n",
    "#                         transforms.ColorJitter(brightness=0.5, contrast=0.5, saturation=0.5, hue=0.5)]) \n",
    "#                         )\n",
    "#         transform.append(transforms.RandomHorizontalFlip(p=0.5))\n",
    "    return transforms.Compose(transform)"
   ]
  },
  {
   "cell_type": "code",
   "execution_count": 4,
   "id": "2dd9c64e",
   "metadata": {
    "execution": {
     "iopub.execute_input": "2021-10-01T00:54:38.752190Z",
     "iopub.status.busy": "2021-10-01T00:54:38.750506Z",
     "iopub.status.idle": "2021-10-01T00:54:38.752765Z",
     "shell.execute_reply": "2021-10-01T00:54:38.753162Z"
    },
    "papermill": {
     "duration": 0.020653,
     "end_time": "2021-10-01T00:54:38.753292",
     "exception": false,
     "start_time": "2021-10-01T00:54:38.732639",
     "status": "completed"
    },
    "tags": []
   },
   "outputs": [],
   "source": [
    "class TrainData(Dataset):\n",
    "    def __init__(self, data, train=True, target_size=(520, 520)):\n",
    "        self.data = data\n",
    "        self.train = train\n",
    "        self.target_size = target_size\n",
    "\n",
    "    def __len__(self) -> int:\n",
    "        return len(self.data)\n",
    "        \n",
    "    def __getitem__(self, idx):\n",
    "        if torch.is_tensor(idx):\n",
    "            idx = idx.tolist()\n",
    "\n",
    "        img_name = '../input/petfinder-pawpularity-score/train/' + self.data.iloc[idx, 0] + '.jpg'\n",
    "        image = Image.open(img_name).convert('RGB')\n",
    "\n",
    "        transform = get_transform(self.train, self.target_size)\n",
    "        image = transform(image)\n",
    "        \n",
    "        raw_labels = torch.tensor(self.data.iloc[idx, -1])\n",
    "        \n",
    "#         labels = torch.tensor(raw_labels // 10)\n",
    "        \n",
    "#         true_labels = torch.tensor(self.data.iloc[idx, -1])\n",
    "\n",
    "        sample = {'image': image, 'label': raw_labels}\n",
    "#     'true_labels': true_labels}\n",
    "\n",
    "        return sample"
   ]
  },
  {
   "cell_type": "code",
   "execution_count": 5,
   "id": "7d418a6d",
   "metadata": {
    "execution": {
     "iopub.execute_input": "2021-10-01T00:54:38.784452Z",
     "iopub.status.busy": "2021-10-01T00:54:38.783819Z",
     "iopub.status.idle": "2021-10-01T00:54:38.799007Z",
     "shell.execute_reply": "2021-10-01T00:54:38.798521Z"
    },
    "papermill": {
     "duration": 0.034957,
     "end_time": "2021-10-01T00:54:38.799126",
     "exception": false,
     "start_time": "2021-10-01T00:54:38.764169",
     "status": "completed"
    },
    "tags": []
   },
   "outputs": [],
   "source": [
    "train_csv['Pawpularity'] = train_csv['Pawpularity'] / 100"
   ]
  },
  {
   "cell_type": "code",
   "execution_count": 6,
   "id": "7548c907",
   "metadata": {
    "execution": {
     "iopub.execute_input": "2021-10-01T00:54:38.827904Z",
     "iopub.status.busy": "2021-10-01T00:54:38.827302Z",
     "iopub.status.idle": "2021-10-01T00:54:38.833691Z",
     "shell.execute_reply": "2021-10-01T00:54:38.834085Z"
    },
    "papermill": {
     "duration": 0.023768,
     "end_time": "2021-10-01T00:54:38.834258",
     "exception": false,
     "start_time": "2021-10-01T00:54:38.810490",
     "status": "completed"
    },
    "tags": []
   },
   "outputs": [],
   "source": [
    "data_to_train, data_to_test = train_test_split(train_csv, test_size=0.1, random_state=42)"
   ]
  },
  {
   "cell_type": "code",
   "execution_count": 7,
   "id": "fc91006f",
   "metadata": {
    "execution": {
     "iopub.execute_input": "2021-10-01T00:54:38.861640Z",
     "iopub.status.busy": "2021-10-01T00:54:38.860758Z",
     "iopub.status.idle": "2021-10-01T00:54:38.862837Z",
     "shell.execute_reply": "2021-10-01T00:54:38.863274Z"
    },
    "papermill": {
     "duration": 0.017577,
     "end_time": "2021-10-01T00:54:38.863406",
     "exception": false,
     "start_time": "2021-10-01T00:54:38.845829",
     "status": "completed"
    },
    "tags": []
   },
   "outputs": [],
   "source": [
    "# data_to_train = data_to_train[data_to_train['Pawpularity'] < 90]"
   ]
  },
  {
   "cell_type": "code",
   "execution_count": 8,
   "id": "58e1d6e0",
   "metadata": {
    "execution": {
     "iopub.execute_input": "2021-10-01T00:54:38.892482Z",
     "iopub.status.busy": "2021-10-01T00:54:38.891782Z",
     "iopub.status.idle": "2021-10-01T00:54:38.894762Z",
     "shell.execute_reply": "2021-10-01T00:54:38.894282Z"
    },
    "papermill": {
     "duration": 0.019809,
     "end_time": "2021-10-01T00:54:38.894879",
     "exception": false,
     "start_time": "2021-10-01T00:54:38.875070",
     "status": "completed"
    },
    "tags": []
   },
   "outputs": [],
   "source": [
    "batch_size = 24\n",
    "train_dataset = TrainData(data_to_train)\n",
    "train_dataloader = torch.utils.data.DataLoader(train_dataset, batch_size=batch_size, shuffle=True)\n",
    "test_dataset = TrainData(data_to_test, train=False)\n",
    "test_dataloader = torch.utils.data.DataLoader(test_dataset, batch_size=batch_size, shuffle=True)"
   ]
  },
  {
   "cell_type": "code",
   "execution_count": 9,
   "id": "0194d41c",
   "metadata": {
    "execution": {
     "iopub.execute_input": "2021-10-01T00:54:38.928192Z",
     "iopub.status.busy": "2021-10-01T00:54:38.927221Z",
     "iopub.status.idle": "2021-10-01T00:54:38.928997Z",
     "shell.execute_reply": "2021-10-01T00:54:38.929463Z"
    },
    "papermill": {
     "duration": 0.022964,
     "end_time": "2021-10-01T00:54:38.929610",
     "exception": false,
     "start_time": "2021-10-01T00:54:38.906646",
     "status": "completed"
    },
    "tags": []
   },
   "outputs": [],
   "source": [
    "def plot_progress(train_losses, train_rmse, test_loss, test_rmse):\n",
    "    clear_output(True)\n",
    "    \n",
    "    f, (ax1, ax2) = plt.subplots(nrows=1, ncols=2)\n",
    "    f.set_figheight(6)\n",
    "    f.set_figwidth(12)\n",
    "    \n",
    "    ax1.plot(train_losses, label='train loss')\n",
    "    ax1.plot(test_loss, label='test loss')\n",
    "    ax1.plot(np.zeros_like(train_losses), '--', label='zero')\n",
    "    ax1.set_title('Loss')\n",
    "    ax1.set_ylabel('Loss')\n",
    "    ax1.set_xlabel('Batch number')\n",
    "    ax1.legend()\n",
    "    \n",
    "    ax2.plot(train_rmse, label='train rmse')\n",
    "    ax2.plot(test_rmse, label='test rmse')\n",
    "    ax2.plot(np.zeros_like(train_rmse), '--', label='RMSE=0')\n",
    "    ax2.plot(np.ones_like(train_rmse) * 0.16, '--', label='RMSE=0.16')\n",
    "    ax2.set_title('RMSE')\n",
    "    ax2.set_ylabel('RMSE')\n",
    "    ax2.set_xlabel('Batch number')\n",
    "    ax2.legend()\n",
    "\n",
    "    plt.show()"
   ]
  },
  {
   "cell_type": "code",
   "execution_count": 10,
   "id": "f6547dc5",
   "metadata": {
    "execution": {
     "iopub.execute_input": "2021-10-01T00:54:39.000226Z",
     "iopub.status.busy": "2021-10-01T00:54:38.957076Z",
     "iopub.status.idle": "2021-10-01T00:54:39.003857Z",
     "shell.execute_reply": "2021-10-01T00:54:39.003404Z"
    },
    "papermill": {
     "duration": 0.063022,
     "end_time": "2021-10-01T00:54:39.003984",
     "exception": false,
     "start_time": "2021-10-01T00:54:38.940962",
     "status": "completed"
    },
    "tags": []
   },
   "outputs": [
    {
     "name": "stdout",
     "output_type": "stream",
     "text": [
      "cuda:0\n"
     ]
    }
   ],
   "source": [
    "device = torch.device(\"cuda:0\" if torch.cuda.is_available() else \"cpu\")\n",
    "print(device)"
   ]
  },
  {
   "cell_type": "code",
   "execution_count": 11,
   "id": "965b9952",
   "metadata": {
    "execution": {
     "iopub.execute_input": "2021-10-01T00:54:39.034922Z",
     "iopub.status.busy": "2021-10-01T00:54:39.030413Z",
     "iopub.status.idle": "2021-10-01T00:54:46.063656Z",
     "shell.execute_reply": "2021-10-01T00:54:46.062787Z"
    },
    "papermill": {
     "duration": 7.047589,
     "end_time": "2021-10-01T00:54:46.063791",
     "exception": false,
     "start_time": "2021-10-01T00:54:39.016202",
     "status": "completed"
    },
    "tags": []
   },
   "outputs": [
    {
     "name": "stderr",
     "output_type": "stream",
     "text": [
      "Downloading: \"https://download.pytorch.org/models/googlenet-1378be20.pth\" to /root/.cache/torch/hub/checkpoints/googlenet-1378be20.pth\n"
     ]
    },
    {
     "data": {
      "application/vnd.jupyter.widget-view+json": {
       "model_id": "c4f1f26e333b4e9e90dbf8a94d34c6e6",
       "version_major": 2,
       "version_minor": 0
      },
      "text/plain": [
       "  0%|          | 0.00/49.7M [00:00<?, ?B/s]"
      ]
     },
     "metadata": {},
     "output_type": "display_data"
    }
   ],
   "source": [
    "model = models.googlenet(pretrained=True)\n",
    "num_ftrs = model.fc.in_features\n",
    "model.fc = nn.Linear(num_ftrs, 1)\n",
    "\n",
    "ct = 0\n",
    "for child in model.children():\n",
    "    ct += 1\n",
    "    if ct < 4:\n",
    "        for param in child.parameters():\n",
    "            param.require_grad = False\n",
    "\n",
    "model = model.to(device)\n",
    "\n",
    "# criterion = nn.CrossEntropyLoss()\n",
    "criterion = nn.MSELoss()\n",
    "optimizer = optim.Adam(model.parameters(), lr = 0.001)\n",
    "# optimizer = optim.SGD(model.parameters(), lr=0.0001, momentum=0.9, weight_decay=0.05)\n",
    "\n",
    "exp_lr_scheduler = lr_scheduler.StepLR(optimizer, step_size=60, gamma=0.1) "
   ]
  },
  {
   "cell_type": "code",
   "execution_count": 12,
   "id": "cba073f9",
   "metadata": {
    "execution": {
     "iopub.execute_input": "2021-10-01T00:54:46.100701Z",
     "iopub.status.busy": "2021-10-01T00:54:46.100173Z",
     "iopub.status.idle": "2021-10-01T01:07:57.100928Z",
     "shell.execute_reply": "2021-10-01T01:07:57.102082Z"
    },
    "papermill": {
     "duration": 791.025727,
     "end_time": "2021-10-01T01:07:57.102327",
     "exception": false,
     "start_time": "2021-10-01T00:54:46.076600",
     "status": "completed"
    },
    "tags": []
   },
   "outputs": [
    {
     "data": {
      "image/png": "[encoded data removed]",
      "text/plain": [
       "<Figure size 864x432 with 2 Axes>"
      ]
     },
     "metadata": {
      "needs_background": "light"
     },
     "output_type": "display_data"
    }
   ],
   "source": [
    "epochs = 1\n",
    "\n",
    "train_rmse = []\n",
    "test_rmse = []\n",
    "\n",
    "train_losses = []\n",
    "test_losses = []\n",
    "\n",
    "for epoch in range(epochs):\n",
    "    for train in train_dataloader:\n",
    "        \n",
    "        model.train()\n",
    "        data_train = train['image'].to(device)#.permute(0, 3, 1, 2)\n",
    "        target_train = train['label'].to(device)\n",
    "        \n",
    "        optimizer.zero_grad()\n",
    "        out_train = model(data_train)\n",
    "#         _, preds_train = torch.max(out_train, 1)\n",
    "        train_loss = criterion(out_train.reshape(-1), target_train.float())\n",
    "\n",
    "        train_loss.backward()\n",
    "#         torch.nn.utils.clip_grad_norm_(model.parameters(), 2)\n",
    "        optimizer.step()\n",
    "        \n",
    "        test = next(iter(test_dataloader))\n",
    "        model.eval()\n",
    "        with torch.no_grad():\n",
    "            data_test = test['image'].to(device)#.permute(0, 3, 1, 2)\n",
    "            target_test = test['label'].to(device)\n",
    "            out_test = model(data_test)\n",
    "#             _, preds_test = torch.max(out_test, 1)\n",
    "            test_loss = criterion(out_test.reshape(-1), target_test.float())\n",
    "\n",
    "        # y_true = train['label'].cpu().numpy()\n",
    "#         preds_train = preds_train * 10 + 5\n",
    "        y_pred = out_train.data.cpu()\n",
    "        train_rmse.append(mean_squared_error(target_train.cpu(), y_pred, squared=False))\n",
    "\n",
    "        # y_true_test = test['label'].cpu().numpy()\n",
    "#         preds_test = preds_test * 10 + 5\n",
    "        y_pred_test = out_test.data.cpu()\n",
    "        test_rmse.append(mean_squared_error(target_test.cpu(), y_pred_test, squared=False))\n",
    "        \n",
    "        train_losses.append(train_loss.item())\n",
    "        test_losses.append(test_loss.item())\n",
    "        \n",
    "        plot_progress(train_losses, train_rmse, test_losses, test_rmse)\n",
    "        \n",
    "        exp_lr_scheduler.step()"
   ]
  },
  {
   "cell_type": "code",
   "execution_count": 13,
   "id": "b61f1325",
   "metadata": {
    "execution": {
     "iopub.execute_input": "2021-10-01T01:07:57.160469Z",
     "iopub.status.busy": "2021-10-01T01:07:57.159466Z",
     "iopub.status.idle": "2021-10-01T01:07:57.162116Z",
     "shell.execute_reply": "2021-10-01T01:07:57.161339Z"
    },
    "papermill": {
     "duration": 0.034548,
     "end_time": "2021-10-01T01:07:57.162296",
     "exception": false,
     "start_time": "2021-10-01T01:07:57.127748",
     "status": "completed"
    },
    "tags": []
   },
   "outputs": [],
   "source": [
    "# model.eval()\n",
    "# preprocess = get_transform(False, (520, 520))\n",
    "\n",
    "# y_pred = []\n",
    "# y_true = []\n",
    "# for i in tqdm(data_to_test.index):\n",
    "#     img_name = data_to_test['Id'][i]\n",
    "#     image = Image.open('../input/petfinder-pawpularity-score/train/' + img_name + '.jpg').convert('RGB')\n",
    "#     image = preprocess(image)\n",
    "#     with torch.no_grad():\n",
    "#         image = image.unsqueeze_(0).to(device)\n",
    "#         out_test = model(image)\n",
    "# #         _, output = torch.max(out_test, 1)\n",
    "# #         output = output * 10 + 5\n",
    "#         output = out_test.cpu()\n",
    "#         y_true.append(data_to_test.loc[i, 'Pawpularity'])\n",
    "#         y_pred.append(output[0])\n",
    "# mean_squared_error(y_true, y_pred, squared=False)"
   ]
  },
  {
   "cell_type": "code",
   "execution_count": 14,
   "id": "6529ada6",
   "metadata": {
    "execution": {
     "iopub.execute_input": "2021-10-01T01:07:57.222931Z",
     "iopub.status.busy": "2021-10-01T01:07:57.222065Z",
     "iopub.status.idle": "2021-10-01T01:07:57.486189Z",
     "shell.execute_reply": "2021-10-01T01:07:57.487137Z"
    },
    "papermill": {
     "duration": 0.299713,
     "end_time": "2021-10-01T01:07:57.487333",
     "exception": false,
     "start_time": "2021-10-01T01:07:57.187620",
     "status": "completed"
    },
    "tags": []
   },
   "outputs": [
    {
     "name": "stderr",
     "output_type": "stream",
     "text": [
      "100%|██████████| 8/8 [00:00<00:00, 31.75it/s]\n"
     ]
    }
   ],
   "source": [
    "model.eval()\n",
    "preprocess = get_transform(False, (520, 520))\n",
    "\n",
    "for i in tqdm(sample_submission.index):\n",
    "    img_name = sample_submission['Id'][i]\n",
    "    image = Image.open('../input/petfinder-pawpularity-score/test/' + img_name + '.jpg').convert('RGB')\n",
    "    image = preprocess(image)\n",
    "    with torch.no_grad():\n",
    "        image = image.unsqueeze_(0).to(device)\n",
    "        out_test = model(image)\n",
    "#         _, output = torch.max(out_test, 1)\n",
    "#         output = output * 10 + 5\n",
    "        output = out_test.cpu()\n",
    "        sample_submission.loc[i, 'Pawpularity'] = output[0].numpy()[0] * 100\n",
    "        "
   ]
  },
  {
   "cell_type": "code",
   "execution_count": 15,
   "id": "1e99963b",
   "metadata": {
    "execution": {
     "iopub.execute_input": "2021-10-01T01:07:57.546870Z",
     "iopub.status.busy": "2021-10-01T01:07:57.544736Z",
     "iopub.status.idle": "2021-10-01T01:07:57.547706Z",
     "shell.execute_reply": "2021-10-01T01:07:57.548310Z"
    },
    "papermill": {
     "duration": 0.035718,
     "end_time": "2021-10-01T01:07:57.548474",
     "exception": false,
     "start_time": "2021-10-01T01:07:57.512756",
     "status": "completed"
    },
    "tags": []
   },
   "outputs": [],
   "source": [
    "sample_submission.to_csv('sub0.csv', index=False)"
   ]
  },
  {
   "cell_type": "code",
   "execution_count": 16,
   "id": "c6692921",
   "metadata": {
    "execution": {
     "iopub.execute_input": "2021-10-01T01:07:57.595195Z",
     "iopub.status.busy": "2021-10-01T01:07:57.594478Z",
     "iopub.status.idle": "2021-10-01T01:07:57.605676Z",
     "shell.execute_reply": "2021-10-01T01:07:57.605254Z"
    },
    "papermill": {
     "duration": 0.029941,
     "end_time": "2021-10-01T01:07:57.605773",
     "exception": false,
     "start_time": "2021-10-01T01:07:57.575832",
     "status": "completed"
    },
    "tags": []
   },
   "outputs": [
    {
     "data": {
      "text/html": [
       "<div>\n",
       "<style scoped>\n",
       "    .dataframe tbody tr th:only-of-type {\n",
       "        vertical-align: middle;\n",
       "    }\n",
       "\n",
       "    .dataframe tbody tr th {\n",
       "        vertical-align: top;\n",
       "    }\n",
       "\n",
       "    .dataframe thead th {\n",
       "        text-align: right;\n",
       "    }\n",
       "</style>\n",
       "<table border=\"1\" class=\"dataframe\">\n",
       "  <thead>\n",
       "    <tr style=\"text-align: right;\">\n",
       "      <th></th>\n",
       "      <th>Id</th>\n",
       "      <th>Pawpularity</th>\n",
       "    </tr>\n",
       "  </thead>\n",
       "  <tbody>\n",
       "    <tr>\n",
       "      <th>0</th>\n",
       "      <td>4128bae22183829d2b5fea10effdb0c3</td>\n",
       "      <td>39.165553</td>\n",
       "    </tr>\n",
       "    <tr>\n",
       "      <th>1</th>\n",
       "      <td>43a2262d7738e3d420d453815151079e</td>\n",
       "      <td>38.923919</td>\n",
       "    </tr>\n",
       "    <tr>\n",
       "      <th>2</th>\n",
       "      <td>4e429cead1848a298432a0acad014c9d</td>\n",
       "      <td>38.906789</td>\n",
       "    </tr>\n",
       "    <tr>\n",
       "      <th>3</th>\n",
       "      <td>80bc3ccafcc51b66303c2c263aa38486</td>\n",
       "      <td>38.867062</td>\n",
       "    </tr>\n",
       "    <tr>\n",
       "      <th>4</th>\n",
       "      <td>8f49844c382931444e68dffbe20228f4</td>\n",
       "      <td>38.902906</td>\n",
       "    </tr>\n",
       "    <tr>\n",
       "      <th>5</th>\n",
       "      <td>b03f7041962238a7c9d6537e22f9b017</td>\n",
       "      <td>39.053282</td>\n",
       "    </tr>\n",
       "    <tr>\n",
       "      <th>6</th>\n",
       "      <td>c978013571258ed6d4637f6e8cc9d6a3</td>\n",
       "      <td>38.930970</td>\n",
       "    </tr>\n",
       "    <tr>\n",
       "      <th>7</th>\n",
       "      <td>e0de453c1bffc20c22b072b34b54e50f</td>\n",
       "      <td>38.861662</td>\n",
       "    </tr>\n",
       "  </tbody>\n",
       "</table>\n",
       "</div>"
      ],
      "text/plain": [
       "                                 Id  Pawpularity\n",
       "0  4128bae22183829d2b5fea10effdb0c3    39.165553\n",
       "1  43a2262d7738e3d420d453815151079e    38.923919\n",
       "2  4e429cead1848a298432a0acad014c9d    38.906789\n",
       "3  80bc3ccafcc51b66303c2c263aa38486    38.867062\n",
       "4  8f49844c382931444e68dffbe20228f4    38.902906\n",
       "5  b03f7041962238a7c9d6537e22f9b017    39.053282\n",
       "6  c978013571258ed6d4637f6e8cc9d6a3    38.930970\n",
       "7  e0de453c1bffc20c22b072b34b54e50f    38.861662"
      ]
     },
     "execution_count": 16,
     "metadata": {},
     "output_type": "execute_result"
    }
   ],
   "source": [
    "sample_submission"
   ]
  }
 ],
 "metadata": {
  "kernelspec": {
   "display_name": "Python 3",
   "language": "python",
   "name": "python3"
  },
  "language_info": {
   "codemirror_mode": {
    "name": "ipython",
    "version": 3
   },
   "file_extension": ".py",
   "mimetype": "text/x-python",
   "name": "python",
   "nbconvert_exporter": "python",
   "pygments_lexer": "ipython3",
   "version": "3.7.10"
  },
  "papermill": {
   "default_parameters": {},
   "duration": 812.769076,
   "end_time": "2021-10-01T01:07:59.400729",
   "environment_variables": {},
   "exception": null,
   "input_path": "__notebook__.ipynb",
   "output_path": "__notebook__.ipynb",
   "parameters": {},
   "start_time": "2021-10-01T00:54:26.631653",
   "version": "2.3.3"
  },
  "widgets": {
   "application/vnd.jupyter.widget-state+json": {
    "state": {
     "106243391bb54856bbbf4d967179275d": {
      "model_module": "@jupyter-widgets/controls",
      "model_module_version": "1.5.0",
      "model_name": "HTMLModel",
      "state": {
       "_dom_classes": [],
       "_model_module": "@jupyter-widgets/controls",
       "_model_module_version": "1.5.0",
       "_model_name": "HTMLModel",
       "_view_count": null,
       "_view_module": "@jupyter-widgets/controls",
       "_view_module_version": "1.5.0",
       "_view_name": "HTMLView",
       "description": "",
       "description_tooltip": null,
       "layout": "IPY_MODEL_39cd49a6d0d8466d97dea358f096bc07",
       "placeholder": "​",
       "style": "IPY_MODEL_cabf496e2a8645a5a99029449535f00d",
       "value": "100%"
      }
     },
     "39cd49a6d0d8466d97dea358f096bc07": {
      "model_module": "@jupyter-widgets/base",
      "model_module_version": "1.2.0",
      "model_name": "LayoutModel",
      "state": {
       "_model_module": "@jupyter-widgets/base",
       "_model_module_version": "1.2.0",
       "_model_name": "LayoutModel",
       "_view_count": null,
       "_view_module": "@jupyter-widgets/base",
       "_view_module_version": "1.2.0",
       "_view_name": "LayoutView",
       "align_content": null,
       "align_items": null,
       "align_self": null,
       "border": null,
       "bottom": null,
       "display": null,
       "flex": null,
       "flex_flow": null,
       "grid_area": null,
       "grid_auto_columns": null,
       "grid_auto_flow": null,
       "grid_auto_rows": null,
       "grid_column": null,
       "grid_gap": null,
       "grid_row": null,
       "grid_template_areas": null,
       "grid_template_columns": null,
       "grid_template_rows": null,
       "height": null,
       "justify_content": null,
       "justify_items": null,
       "left": null,
       "margin": null,
       "max_height": null,
       "max_width": null,
       "min_height": null,
       "min_width": null,
       "object_fit": null,
       "object_position": null,
       "order": null,
       "overflow": null,
       "overflow_x": null,
       "overflow_y": null,
       "padding": null,
       "right": null,
       "top": null,
       "visibility": null,
       "width": null
      }
     },
     "41ebcf0517bf45acaeb99ea9285316c8": {
      "model_module": "@jupyter-widgets/controls",
      "model_module_version": "1.5.0",
      "model_name": "ProgressStyleModel",
      "state": {
       "_model_module": "@jupyter-widgets/controls",
       "_model_module_version": "1.5.0",
       "_model_name": "ProgressStyleModel",
       "_view_count": null,
       "_view_module": "@jupyter-widgets/base",
       "_view_module_version": "1.2.0",
       "_view_name": "StyleView",
       "bar_color": null,
       "description_width": ""
      }
     },
     "503fe5a2a9f247b499df9a5f8a6d1492": {
      "model_module": "@jupyter-widgets/base",
      "model_module_version": "1.2.0",
      "model_name": "LayoutModel",
      "state": {
       "_model_module": "@jupyter-widgets/base",
       "_model_module_version": "1.2.0",
       "_model_name": "LayoutModel",
       "_view_count": null,
       "_view_module": "@jupyter-widgets/base",
       "_view_module_version": "1.2.0",
       "_view_name": "LayoutView",
       "align_content": null,
       "align_items": null,
       "align_self": null,
       "border": null,
       "bottom": null,
       "display": null,
       "flex": null,
       "flex_flow": null,
       "grid_area": null,
       "grid_auto_columns": null,
       "grid_auto_flow": null,
       "grid_auto_rows": null,
       "grid_column": null,
       "grid_gap": null,
       "grid_row": null,
       "grid_template_areas": null,
       "grid_template_columns": null,
       "grid_template_rows": null,
       "height": null,
       "justify_content": null,
       "justify_items": null,
       "left": null,
       "margin": null,
       "max_height": null,
       "max_width": null,
       "min_height": null,
       "min_width": null,
       "object_fit": null,
       "object_position": null,
       "order": null,
       "overflow": null,
       "overflow_x": null,
       "overflow_y": null,
       "padding": null,
       "right": null,
       "top": null,
       "visibility": null,
       "width": null
      }
     },
     "56d1103c97c34c60a2f73139477ccaef": {
      "model_module": "@jupyter-widgets/controls",
      "model_module_version": "1.5.0",
      "model_name": "HTMLModel",
      "state": {
       "_dom_classes": [],
       "_model_module": "@jupyter-widgets/controls",
       "_model_module_version": "1.5.0",
       "_model_name": "HTMLModel",
       "_view_count": null,
       "_view_module": "@jupyter-widgets/controls",
       "_view_module_version": "1.5.0",
       "_view_name": "HTMLView",
       "description": "",
       "description_tooltip": null,
       "layout": "IPY_MODEL_d3406e4195d741579308af59fdea248d",
       "placeholder": "​",
       "style": "IPY_MODEL_f013a74d3d28487fb7d677d4287025f2",
       "value": " 49.7M/49.7M [00:01&lt;00:00, 49.5MB/s]"
      }
     },
     "59b4e6788a0a4361a8fa06e7b842082e": {
      "model_module": "@jupyter-widgets/controls",
      "model_module_version": "1.5.0",
      "model_name": "FloatProgressModel",
      "state": {
       "_dom_classes": [],
       "_model_module": "@jupyter-widgets/controls",
       "_model_module_version": "1.5.0",
       "_model_name": "FloatProgressModel",
       "_view_count": null,
       "_view_module": "@jupyter-widgets/controls",
       "_view_module_version": "1.5.0",
       "_view_name": "ProgressView",
       "bar_style": "success",
       "description": "",
       "description_tooltip": null,
       "layout": "IPY_MODEL_d72f72977bdf4fadb1c2455663e011d2",
       "max": 52147035.0,
       "min": 0.0,
       "orientation": "horizontal",
       "style": "IPY_MODEL_41ebcf0517bf45acaeb99ea9285316c8",
       "value": 52147035.0
      }
     },
     "c4f1f26e333b4e9e90dbf8a94d34c6e6": {
      "model_module": "@jupyter-widgets/controls",
      "model_module_version": "1.5.0",
      "model_name": "HBoxModel",
      "state": {
       "_dom_classes": [],
       "_model_module": "@jupyter-widgets/controls",
       "_model_module_version": "1.5.0",
       "_model_name": "HBoxModel",
       "_view_count": null,
       "_view_module": "@jupyter-widgets/controls",
       "_view_module_version": "1.5.0",
       "_view_name": "HBoxView",
       "box_style": "",
       "children": [
        "IPY_MODEL_106243391bb54856bbbf4d967179275d",
        "IPY_MODEL_59b4e6788a0a4361a8fa06e7b842082e",
        "IPY_MODEL_56d1103c97c34c60a2f73139477ccaef"
       ],
       "layout": "IPY_MODEL_503fe5a2a9f247b499df9a5f8a6d1492"
      }
     },
     "cabf496e2a8645a5a99029449535f00d": {
      "model_module": "@jupyter-widgets/controls",
      "model_module_version": "1.5.0",
      "model_name": "DescriptionStyleModel",
      "state": {
       "_model_module": "@jupyter-widgets/controls",
       "_model_module_version": "1.5.0",
       "_model_name": "DescriptionStyleModel",
       "_view_count": null,
       "_view_module": "@jupyter-widgets/base",
       "_view_module_version": "1.2.0",
       "_view_name": "StyleView",
       "description_width": ""
      }
     },
     "d3406e4195d741579308af59fdea248d": {
      "model_module": "@jupyter-widgets/base",
      "model_module_version": "1.2.0",
      "model_name": "LayoutModel",
      "state": {
       "_model_module": "@jupyter-widgets/base",
       "_model_module_version": "1.2.0",
       "_model_name": "LayoutModel",
       "_view_count": null,
       "_view_module": "@jupyter-widgets/base",
       "_view_module_version": "1.2.0",
       "_view_name": "LayoutView",
       "align_content": null,
       "align_items": null,
       "align_self": null,
       "border": null,
       "bottom": null,
       "display": null,
       "flex": null,
       "flex_flow": null,
       "grid_area": null,
       "grid_auto_columns": null,
       "grid_auto_flow": null,
       "grid_auto_rows": null,
       "grid_column": null,
       "grid_gap": null,
       "grid_row": null,
       "grid_template_areas": null,
       "grid_template_columns": null,
       "grid_template_rows": null,
       "height": null,
       "justify_content": null,
       "justify_items": null,
       "left": null,
       "margin": null,
       "max_height": null,
       "max_width": null,
       "min_height": null,
       "min_width": null,
       "object_fit": null,
       "object_position": null,
       "order": null,
       "overflow": null,
       "overflow_x": null,
       "overflow_y": null,
       "padding": null,
       "right": null,
       "top": null,
       "visibility": null,
       "width": null
      }
     },
     "d72f72977bdf4fadb1c2455663e011d2": {
      "model_module": "@jupyter-widgets/base",
      "model_module_version": "1.2.0",
      "model_name": "LayoutModel",
      "state": {
       "_model_module": "@jupyter-widgets/base",
       "_model_module_version": "1.2.0",
       "_model_name": "LayoutModel",
       "_view_count": null,
       "_view_module": "@jupyter-widgets/base",
       "_view_module_version": "1.2.0",
       "_view_name": "LayoutView",
       "align_content": null,
       "align_items": null,
       "align_self": null,
       "border": null,
       "bottom": null,
       "display": null,
       "flex": null,
       "flex_flow": null,
       "grid_area": null,
       "grid_auto_columns": null,
       "grid_auto_flow": null,
       "grid_auto_rows": null,
       "grid_column": null,
       "grid_gap": null,
       "grid_row": null,
       "grid_template_areas": null,
       "grid_template_columns": null,
       "grid_template_rows": null,
       "height": null,
       "justify_content": null,
       "justify_items": null,
       "left": null,
       "margin": null,
       "max_height": null,
       "max_width": null,
       "min_height": null,
       "min_width": null,
       "object_fit": null,
       "object_position": null,
       "order": null,
       "overflow": null,
       "overflow_x": null,
       "overflow_y": null,
       "padding": null,
       "right": null,
       "top": null,
       "visibility": null,
       "width": null
      }
     },
     "f013a74d3d28487fb7d677d4287025f2": {
      "model_module": "@jupyter-widgets/controls",
      "model_module_version": "1.5.0",
      "model_name": "DescriptionStyleModel",
      "state": {
       "_model_module": "@jupyter-widgets/controls",
       "_model_module_version": "1.5.0",
       "_model_name": "DescriptionStyleModel",
       "_view_count": null,
       "_view_module": "@jupyter-widgets/base",
       "_view_module_version": "1.2.0",
       "_view_name": "StyleView",
       "description_width": ""
      }
     }
    },
    "version_major": 2,
    "version_minor": 0
   }
  }
 },
 "nbformat": 4,
 "nbformat_minor": 5
}
